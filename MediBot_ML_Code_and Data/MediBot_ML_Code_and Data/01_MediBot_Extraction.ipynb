{
 "cells": [
  {
   "cell_type": "code",
   "execution_count": 1,
   "id": "d723b929-0654-4ccd-8963-63f30b1e7f5b",
   "metadata": {},
   "outputs": [
    {
     "name": "stdout",
     "output_type": "stream",
     "text": [
      "Extraction complete. Extracted files: ['agent.json', 'intents', 'package.json']\n",
      "Intent files found: ['acknowledge.json', 'acknowledge_usersays_en.json', 'BP.json', 'BP_Ayurvedic Remedies.json', 'BP_Ayurvedic Remedies_usersays_en.json', 'BP_Diet.json', 'BP_Diet_usersays_en.json', 'BP_Home Remedies.json', 'BP_Home Remedies_usersays_en.json', 'BP_medication.json', 'BP_medication_usersays_en.json', 'BP_Naturopathy Remedies.json', 'BP_Naturopathy Remedies_usersays_en.json', 'BP_remedies.json', 'BP_remedies_usersays_en.json', 'BP_symptom_check.json', 'BP_symptom_check_usersays_en.json', 'BP_usersays_en.json', 'BP_yoga.json', 'BP_yoga_usersays_en.json', 'Cold _Remedies.json', 'Cold _Remedies_usersays_en.json', 'Cold.json', 'Cold_Ayurvedic Remedies.json', 'Cold_Ayurvedic Remedies_usersays_en.json', 'Cold_Diet.json', 'Cold_Diet_usersays_en.json', 'Cold_Home Remedies.json', 'Cold_Home Remedies_usersays_en.json', 'Cold_Medication.json', 'Cold_Medication_usersays_en.json', 'Cold_Naturopathy Remedies.json', 'Cold_Naturopathy Remedies_usersays_en.json', 'Cold_Physical_Activity.json', 'Cold_Physical_Activity_usersays_en.json', 'Cold_Symptom_Check.json', 'Cold_Symptom_Check_usersays_en.json', 'Cold_usersays_en.json', 'Confirm_Cluster_Headache.json', 'Confirm_Cluster_Headache_usersays_en.json', 'Confirm_common_Cold.json', 'Confirm_common_Cold_usersays_en.json', 'Confirm_Common_Constipation.json', 'Confirm_Common_Constipation_usersays_en.json', 'Confirm_Common_Fever.json', 'Confirm_Common_Fever_usersays_en.json', 'Confirm_Dengue.json', 'Confirm_Dengue_usersays_en.json', 'Confirm_Dry_Cough.json', 'Confirm_Dry_Cough_usersays_en.json', 'Confirm_Emotional_Stress.json', 'Confirm_Emotional_Stress_usersays_en.json', 'Confirm_Food_Poisoning.json', 'Confirm_Food_Poisoning_usersays_en.json', 'Confirm_Gum_Motions.json', 'Confirm_Gum_Motions_usersays_en.json', 'Confirm_Heat_Waves.json', 'Confirm_Heat_Waves_usersays_en.json', 'Confirm_High_BP.json', 'Confirm_High_BP_usersays_en.json', 'Confirm_Loose_Motions.json', 'Confirm_Loose_Motions_usersays_en.json', 'Confirm_Low_BP.json', 'Confirm_Low_BP_usersays_en.json', 'Confirm_Malaria.json', 'Confirm_Malaria_usersays_en.json', 'Confirm_Mental_Stress.json', 'Confirm_Mental_Stress_usersays_en.json', 'Confirm_Migraine.json', 'Confirm_Migraine_usersays_en.json', 'Confirm_Motion_Sickness.json', 'Confirm_Motion_Sickness_usersays_en.json', 'Confirm_Physical_Stress.json', 'Confirm_Physical_Stress_usersays_en.json', 'Confirm_Sinus_Headache.json', 'Confirm_Sinus_Headache_usersays_en.json', 'Confirm_Stress_Symptoms.json', 'Confirm_Stress_Symptoms_usersays_en.json', 'Confirm_Tension_Headache.json', 'Confirm_Tension_Headache_usersays_en.json', 'Confirm_Typhoid.json', 'Confirm_Typhoid_usersays_en.json', 'Confirm_Wet_Cough.json', 'Confirm_Wet_Cough_usersays_en.json', 'Constipation.json', 'Constipation_Ayurvedic Remedies.json', 'Constipation_Ayurvedic Remedies_usersays_en.json', 'Constipation_Diet.json', 'Constipation_Diet_usersays_en.json', 'Constipation_Home Remedies.json', 'Constipation_Home Remedies_usersays_en.json', 'Constipation_Medication.json', 'Constipation_Medication_usersays_en.json', 'Constipation_Naturopathy Remedies.json', 'Constipation_Naturopathy Remedies_usersays_en.json', 'Constipation_Remedies.json', 'Constipation_Remedies_usersays_en.json', 'Constipation_Symptom_Check.json', 'Constipation_Symptom_Check_usersays_en.json', 'Constipation_usersays_en.json', 'Constipation_Yoga.json', 'Constipation_Yoga_usersays_en.json', 'Cough.json', 'Cough_Ayurvedic Remedies.json', 'Cough_Ayurvedic Remedies_usersays_en.json', 'Cough_Diet.json', 'Cough_Diet_usersays_en.json', 'Cough_Home Remedies.json', 'Cough_Home Remedies_usersays_en.json', 'Cough_Medication.json', 'Cough_Medication_usersays_en.json', 'Cough_Naturopathy Remedies.json', 'Cough_Naturopathy Remedies_usersays_en.json', 'Cough_Remedies.json', 'Cough_Remedies_usersays_en.json', 'Cough_Symptom_Check.json', 'Cough_Symptom_Check_usersays_en.json', 'Cough_usersays_en.json', 'Default Fallback Intent.json', 'Default Welcome Intent.json', 'Default Welcome Intent_usersays_en.json', 'Diarrhea.json', 'Diarrhea_Ayurvedic Remedies.json', 'Diarrhea_Ayurvedic Remedies_usersays_en.json', 'Diarrhea_Diet.json', 'Diarrhea_Diet_usersays_en.json', 'Diarrhea_Home Remedies.json', 'Diarrhea_Home Remedies_usersays_en.json', 'Diarrhea_Medication.json', 'Diarrhea_Medication_usersays_en.json', 'Diarrhea_Naturopathy Remedies.json', 'Diarrhea_Naturopathy Remedies_usersays_en.json', 'Diarrhea_Remedies.json', 'Diarrhea_Remedies_usersays_en.json', 'Diarrhea_Symptom_Check.json', 'Diarrhea_Symptom_Check_usersays_en.json', 'Diarrhea_usersays_en.json', 'Fever.json', 'Fever_Diet.json', 'Fever_Diet_usersays_en.json', 'Fever_Home Remedies.json', 'Fever_Home Remedies_usersays_en.json', 'Fever_Naturopathy Remedies.json', 'Fever_Naturopathy Remedies_usersays_en.json', 'Fever_remedies.json', 'Fever_remedies_usersays_en.json', 'Fever_Symptom_Check.json', 'Fever_Symptom_Check_usersays_en.json', 'Fever_usersays_en.json', 'Hairfall.json', 'Hairfall_Ayurvedi Remedie.json', 'Hairfall_Ayurvedi Remedie_usersays_en.json', 'Hairfall_Diet.json', 'Hairfall_Diet_usersays_en.json', 'Hairfall_Home Remedies.json', 'Hairfall_Home Remedies_usersays_en.json', 'Hairfall_Naturopathy Remedies.json', 'Hairfall_Naturopathy Remedies_usersays_en.json', 'Hairfall_Remedies.json', 'Hairfall_Remedies_usersays_en.json', 'Hairfall_usersays_en.json', 'Hairfall_Yoga.json', 'Hairfall_Yoga_usersays_en.json', 'Headache _Ayurvedic Remedies.json', 'Headache _Ayurvedic Remedies_usersays_en.json', 'Headache.json', 'Headache_Diet.json', 'Headache_Diet_usersays_en.json', 'Headache_Naturopathy Remedies.json', 'Headache_Naturopathy Remedies_usersays_en.json', 'Headache_Remedies.json', 'Headache_Remedies_usersays_en.json', 'Headache_Symptom_check.json', 'Headache_Symptom_check_usersays_en.json', 'Headache_usersays_en.json', 'heatwaves.json', 'heatwaves_Ayurvedic Remedies.json', 'heatwaves_Ayurvedic Remedies_usersays_en.json', 'heatwaves_Diets.json', 'heatwaves_Diets_usersays_en.json', 'heatwaves_Home Remedies.json', 'heatwaves_Home Remedies_usersays_en.json', 'heatwaves_Remedies.json', 'heatwaves_Remedies_usersays_en.json', 'heatwaves_Symptom_Check.json', 'heatwaves_Symptom_Check_usersays_en.json', 'heatwaves_usersays_en.json', 'Other_BP_Symptoms.json', 'Other_BP_Symptoms_usersays_en.json', 'Other_Cold_Symptoms.json', 'Other_Cold_Symptoms_usersays_en.json', 'Other_Constipation_Symptoms.json', 'Other_Constipation_Symptoms_usersays_en.json', 'Other_Cough_Symptoms.json', 'Other_Cough_Symptoms_usersays_en.json', 'Other_Diarrhea_Symptoms.json', 'Other_Diarrhea_Symptoms_usersays_en.json', 'Other_Fever_Symptoms.json', 'Other_Fever_Symptoms_usersays_en.json', 'Other_Headache_Symptoms.json', 'Other_Headache_Symptoms_usersays_en.json', 'Other_Heat_Waves_Symptoms.json', 'Other_Heat_Waves_Symptoms_usersays_en.json', 'other_illeness.json', 'Other_illeness_Fits.json', 'Other_illeness_Fits_usersays_en.json', 'Other_illeness_Migraine.json', 'Other_illeness_Migraine_usersays_en.json', 'Other_illeness_Piles.json', 'Other_illeness_Piles_usersays_en.json', 'other_illeness_Remedies.json', 'other_illeness_Remedies_usersays_en.json', 'other_illeness_usersays_en.json', 'Other_Stress_Symptoms.json', 'Stress.json', 'Stress_Home Remedie.json', 'Stress_Home Remedie_usersays_en.json', 'Stress_Remedies.json', 'Stress_Remedies_usersays_en.json', 'Stress_Symptom_Check.json', 'Stress_Symptom_Check_usersays_en.json', 'Stress_usersays_en.json', 'Stress_yoga.json', 'Stress_yoga_usersays_en.json', 'Vomitings.json', 'Vomitings_Ayurvedic Remedies.json', 'Vomitings_Ayurvedic Remedies_usersays_en.json', 'Vomitings_Diet.json', 'Vomitings_Diet_usersays_en.json', 'Vomitings_Home Remedies.json', 'Vomitings_Home Remedies_usersays_en.json', 'Vomitings_Medication.json', 'Vomitings_Medication_usersays_en.json', 'Vomitings_Naturopathy Remedies.json', 'Vomitings_Naturopathy Remedies_usersays_en.json', 'Vomitings_Remedies.json', 'Vomitings_Remedies_usersays_en.json', 'Vomitings_Symptom_Check - custom.json', 'Vomitings_Symptom_Check.json', 'Vomitings_Symptom_Check_usersays_en.json', 'Vomitings_usersays_en.json', 'Welocme_Intent.json', 'Welocme_Intent_usersays_en.json']\n"
     ]
    }
   ],
   "source": [
    "import os\n",
    "extract_path = \"MediBot\"\n",
    "print(\"Extraction complete. Extracted files:\", os.listdir(extract_path))\n",
    "\n",
    "intent_folder = os.path.join(extract_path, \"intents\")\n",
    "intent_files = os.listdir(intent_folder)\n",
    "\n",
    "print(\"Intent files found:\", intent_files)\n"
   ]
  },
  {
   "cell_type": "code",
   "execution_count": 2,
   "id": "5ed93b11-56d8-470a-ad5f-f86a4b19caa4",
   "metadata": {},
   "outputs": [
    {
     "name": "stdout",
     "output_type": "stream",
     "text": [
      "Intent extraction complete. Saved as extracted_intents.csv\n"
     ]
    }
   ],
   "source": [
    "import json\n",
    "import pandas as pd\n",
    "\n",
    "data = []\n",
    "\n",
    "# Process each intent file\n",
    "for file in intent_files:\n",
    "    if file.endswith(\".json\") and not file.endswith(\"_usersays_en.json\"):  # Ignore user says files\n",
    "        with open(os.path.join(intent_folder, file), \"r\", encoding=\"utf-8\") as f:\n",
    "            intent_data = json.load(f)\n",
    "            \n",
    "            intent_name = intent_data.get(\"name\", \"Unknown\")\n",
    "            responses = []\n",
    "            \n",
    "            for response in intent_data.get(\"responses\", []):\n",
    "                for message in response.get(\"messages\", []):\n",
    "                    if \"speech\" in message:\n",
    "                        responses.extend(message[\"speech\"])\n",
    "            \n",
    "            for response_text in responses:\n",
    "                data.append([intent_name, response_text])\n",
    "\n",
    "# Save to CSV\n",
    "df = pd.DataFrame(data, columns=[\"intent\", \"response\"])\n",
    "df.to_csv(\"extracted_intents.csv\", index=False)\n",
    "\n",
    "print(\"Intent extraction complete. Saved as extracted_intents.csv\")\n"
   ]
  },
  {
   "cell_type": "code",
   "execution_count": 3,
   "id": "95cc94a8-2233-42f8-ad49-5942848b2834",
   "metadata": {},
   "outputs": [
    {
     "name": "stdout",
     "output_type": "stream",
     "text": [
      "3.9.21\n"
     ]
    }
   ],
   "source": [
    "from platform import python_version\n",
    "\n",
    "print(python_version())"
   ]
  },
  {
   "cell_type": "code",
   "execution_count": null,
   "id": "f97bd65f-ad5a-4e25-85b2-c2be99e4acd2",
   "metadata": {},
   "outputs": [],
   "source": []
  }
 ],
 "metadata": {
  "kernelspec": {
   "display_name": "Python 3 (ipykernel)",
   "language": "python",
   "name": "python3"
  },
  "language_info": {
   "codemirror_mode": {
    "name": "ipython",
    "version": 3
   },
   "file_extension": ".py",
   "mimetype": "text/x-python",
   "name": "python",
   "nbconvert_exporter": "python",
   "pygments_lexer": "ipython3",
   "version": "3.9.21"
  }
 },
 "nbformat": 4,
 "nbformat_minor": 5
}
