{
 "cells": [
  {
   "cell_type": "code",
   "execution_count": 1,
   "id": "2e648cf8-5293-481d-bce9-663ad46529bb",
   "metadata": {},
   "outputs": [
    {
     "name": "stdout",
     "output_type": "stream",
     "text": [
      "Dataset balanced successfully. New shape: (1452, 4)\n"
     ]
    },
    {
     "data": {
      "text/html": [
       "<div>\n",
       "<style scoped>\n",
       "    .dataframe tbody tr th:only-of-type {\n",
       "        vertical-align: middle;\n",
       "    }\n",
       "\n",
       "    .dataframe tbody tr th {\n",
       "        vertical-align: top;\n",
       "    }\n",
       "\n",
       "    .dataframe thead th {\n",
       "        text-align: right;\n",
       "    }\n",
       "</style>\n",
       "<table border=\"1\" class=\"dataframe\">\n",
       "  <thead>\n",
       "    <tr style=\"text-align: right;\">\n",
       "      <th></th>\n",
       "      <th>intent</th>\n",
       "      <th>response</th>\n",
       "      <th>intent_special_chars</th>\n",
       "      <th>response_special_chars</th>\n",
       "    </tr>\n",
       "  </thead>\n",
       "  <tbody>\n",
       "    <tr>\n",
       "      <th>0</th>\n",
       "      <td>Headache Remedies</td>\n",
       "      <td>let me know which type of remedies do you want?</td>\n",
       "      <td>['_']</td>\n",
       "      <td>[]</td>\n",
       "    </tr>\n",
       "    <tr>\n",
       "      <th>1</th>\n",
       "      <td>heatwaves Symptom Check</td>\n",
       "      <td>please check your symptoms</td>\n",
       "      <td>['_', '_']</td>\n",
       "      <td>[]</td>\n",
       "    </tr>\n",
       "    <tr>\n",
       "      <th>2</th>\n",
       "      <td>Headache</td>\n",
       "      <td>let me know which type of services do you want?</td>\n",
       "      <td>[]</td>\n",
       "      <td>[]</td>\n",
       "    </tr>\n",
       "    <tr>\n",
       "      <th>3</th>\n",
       "      <td>Stress Remedies</td>\n",
       "      <td>Please let me know which type of remedies do y...</td>\n",
       "      <td>['_']</td>\n",
       "      <td>[]</td>\n",
       "    </tr>\n",
       "    <tr>\n",
       "      <th>4</th>\n",
       "      <td>Constipation</td>\n",
       "      <td>which services do you want for Constipation?</td>\n",
       "      <td>[]</td>\n",
       "      <td>[]</td>\n",
       "    </tr>\n",
       "  </tbody>\n",
       "</table>\n",
       "</div>"
      ],
      "text/plain": [
       "                    intent                                           response  \\\n",
       "0        Headache Remedies    let me know which type of remedies do you want?   \n",
       "1  heatwaves Symptom Check                         please check your symptoms   \n",
       "2                 Headache    let me know which type of services do you want?   \n",
       "3          Stress Remedies  Please let me know which type of remedies do y...   \n",
       "4             Constipation       which services do you want for Constipation?   \n",
       "\n",
       "  intent_special_chars response_special_chars  \n",
       "0                ['_']                     []  \n",
       "1           ['_', '_']                     []  \n",
       "2                   []                     []  \n",
       "3                ['_']                     []  \n",
       "4                   []                     []  "
      ]
     },
     "execution_count": 1,
     "metadata": {},
     "output_type": "execute_result"
    }
   ],
   "source": [
    "import pandas as pd\n",
    "from sklearn.utils import resample\n",
    "\n",
    "# Load the cleaned dataset\n",
    "df = pd.read_csv(\"cleaned_intents.csv\")\n",
    "\n",
    "# Find the class distribution\n",
    "intent_counts = df['intent'].value_counts()\n",
    "max_count = intent_counts.max()\n",
    "\n",
    "# Resample to balance the dataset\n",
    "balanced_df = pd.DataFrame()\n",
    "for intent, count in intent_counts.items():\n",
    "    intent_df = df[df['intent'] == intent]\n",
    "    if count < max_count:\n",
    "        intent_df = resample(intent_df, replace=True, n_samples=max_count, random_state=42)\n",
    "    balanced_df = pd.concat([balanced_df, intent_df])\n",
    "\n",
    "# Shuffle the dataset\n",
    "balanced_df = balanced_df.sample(frac=1, random_state=42).reset_index(drop=True)\n",
    "\n",
    "# Save the balanced dataset\n",
    "balanced_df.to_csv(\"balanced_intents.csv\", index=False)\n",
    "\n",
    "print(f\"Dataset balanced successfully. New shape: {balanced_df.shape}\")\n",
    "balanced_df.head()\n"
   ]
  },
  {
   "cell_type": "code",
   "execution_count": null,
   "id": "4d4e9070-72c6-430e-92b9-49876eb6dbb2",
   "metadata": {},
   "outputs": [],
   "source": []
  }
 ],
 "metadata": {
  "kernelspec": {
   "display_name": "Python 3 (ipykernel)",
   "language": "python",
   "name": "python3"
  },
  "language_info": {
   "codemirror_mode": {
    "name": "ipython",
    "version": 3
   },
   "file_extension": ".py",
   "mimetype": "text/x-python",
   "name": "python",
   "nbconvert_exporter": "python",
   "pygments_lexer": "ipython3",
   "version": "3.9.21"
  }
 },
 "nbformat": 4,
 "nbformat_minor": 5
}
